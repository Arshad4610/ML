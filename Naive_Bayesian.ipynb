{
 "cells": [
  {
   "cell_type": "code",
   "execution_count": 2,
   "id": "0873b85f",
   "metadata": {},
   "outputs": [],
   "source": [
    "import pandas as pd"
   ]
  },
  {
   "cell_type": "code",
   "execution_count": 5,
   "id": "3b060190",
   "metadata": {},
   "outputs": [
    {
     "data": {
      "text/html": [
       "<div>\n",
       "<style scoped>\n",
       "    .dataframe tbody tr th:only-of-type {\n",
       "        vertical-align: middle;\n",
       "    }\n",
       "\n",
       "    .dataframe tbody tr th {\n",
       "        vertical-align: top;\n",
       "    }\n",
       "\n",
       "    .dataframe thead th {\n",
       "        text-align: right;\n",
       "    }\n",
       "</style>\n",
       "<table border=\"1\" class=\"dataframe\">\n",
       "  <thead>\n",
       "    <tr style=\"text-align: right;\">\n",
       "      <th></th>\n",
       "      <th>day</th>\n",
       "      <th>outlook</th>\n",
       "      <th>temp</th>\n",
       "      <th>humidity</th>\n",
       "      <th>wind</th>\n",
       "      <th>play</th>\n",
       "    </tr>\n",
       "  </thead>\n",
       "  <tbody>\n",
       "    <tr>\n",
       "      <th>0</th>\n",
       "      <td>D1</td>\n",
       "      <td>Sunny</td>\n",
       "      <td>Hot</td>\n",
       "      <td>High</td>\n",
       "      <td>Weak</td>\n",
       "      <td>No</td>\n",
       "    </tr>\n",
       "    <tr>\n",
       "      <th>1</th>\n",
       "      <td>D2</td>\n",
       "      <td>Sunny</td>\n",
       "      <td>Hot</td>\n",
       "      <td>High</td>\n",
       "      <td>Strong</td>\n",
       "      <td>No</td>\n",
       "    </tr>\n",
       "    <tr>\n",
       "      <th>2</th>\n",
       "      <td>D3</td>\n",
       "      <td>Overcast</td>\n",
       "      <td>Hot</td>\n",
       "      <td>High</td>\n",
       "      <td>Weak</td>\n",
       "      <td>Yes</td>\n",
       "    </tr>\n",
       "    <tr>\n",
       "      <th>3</th>\n",
       "      <td>D4</td>\n",
       "      <td>Rain</td>\n",
       "      <td>Mild</td>\n",
       "      <td>High</td>\n",
       "      <td>Weak</td>\n",
       "      <td>Yes</td>\n",
       "    </tr>\n",
       "    <tr>\n",
       "      <th>4</th>\n",
       "      <td>D5</td>\n",
       "      <td>Rain</td>\n",
       "      <td>Cool</td>\n",
       "      <td>Normal</td>\n",
       "      <td>Weak</td>\n",
       "      <td>Yes</td>\n",
       "    </tr>\n",
       "    <tr>\n",
       "      <th>5</th>\n",
       "      <td>D6</td>\n",
       "      <td>Rain</td>\n",
       "      <td>Cool</td>\n",
       "      <td>Normal</td>\n",
       "      <td>Strong</td>\n",
       "      <td>No</td>\n",
       "    </tr>\n",
       "    <tr>\n",
       "      <th>6</th>\n",
       "      <td>D7</td>\n",
       "      <td>Overcast</td>\n",
       "      <td>Cool</td>\n",
       "      <td>Normal</td>\n",
       "      <td>Strong</td>\n",
       "      <td>Yes</td>\n",
       "    </tr>\n",
       "    <tr>\n",
       "      <th>7</th>\n",
       "      <td>D8</td>\n",
       "      <td>Sunny</td>\n",
       "      <td>Mild</td>\n",
       "      <td>High</td>\n",
       "      <td>Weak</td>\n",
       "      <td>No</td>\n",
       "    </tr>\n",
       "    <tr>\n",
       "      <th>8</th>\n",
       "      <td>D9</td>\n",
       "      <td>Sunny</td>\n",
       "      <td>Cool</td>\n",
       "      <td>Normal</td>\n",
       "      <td>Weak</td>\n",
       "      <td>Yes</td>\n",
       "    </tr>\n",
       "    <tr>\n",
       "      <th>9</th>\n",
       "      <td>D10</td>\n",
       "      <td>Rain</td>\n",
       "      <td>Mild</td>\n",
       "      <td>Normal</td>\n",
       "      <td>Weak</td>\n",
       "      <td>Yes</td>\n",
       "    </tr>\n",
       "    <tr>\n",
       "      <th>10</th>\n",
       "      <td>D11</td>\n",
       "      <td>Sunny</td>\n",
       "      <td>Mild</td>\n",
       "      <td>Normal</td>\n",
       "      <td>Strong</td>\n",
       "      <td>Yes</td>\n",
       "    </tr>\n",
       "    <tr>\n",
       "      <th>11</th>\n",
       "      <td>D12</td>\n",
       "      <td>Overcast</td>\n",
       "      <td>Mild</td>\n",
       "      <td>High</td>\n",
       "      <td>Strong</td>\n",
       "      <td>Yes</td>\n",
       "    </tr>\n",
       "    <tr>\n",
       "      <th>12</th>\n",
       "      <td>D13</td>\n",
       "      <td>Overcast</td>\n",
       "      <td>Hot</td>\n",
       "      <td>Normal</td>\n",
       "      <td>Weak</td>\n",
       "      <td>Yes</td>\n",
       "    </tr>\n",
       "    <tr>\n",
       "      <th>13</th>\n",
       "      <td>D14</td>\n",
       "      <td>Rain</td>\n",
       "      <td>Mild</td>\n",
       "      <td>High</td>\n",
       "      <td>Strong</td>\n",
       "      <td>No</td>\n",
       "    </tr>\n",
       "  </tbody>\n",
       "</table>\n",
       "</div>"
      ],
      "text/plain": [
       "    day   outlook  temp humidity    wind play\n",
       "0    D1     Sunny   Hot     High    Weak   No\n",
       "1    D2     Sunny   Hot     High  Strong   No\n",
       "2    D3  Overcast   Hot     High    Weak  Yes\n",
       "3    D4      Rain  Mild     High    Weak  Yes\n",
       "4    D5      Rain  Cool   Normal    Weak  Yes\n",
       "5    D6      Rain  Cool   Normal  Strong   No\n",
       "6    D7  Overcast  Cool   Normal  Strong  Yes\n",
       "7    D8     Sunny  Mild     High    Weak   No\n",
       "8    D9     Sunny  Cool   Normal    Weak  Yes\n",
       "9   D10      Rain  Mild   Normal    Weak  Yes\n",
       "10  D11     Sunny  Mild   Normal  Strong  Yes\n",
       "11  D12  Overcast  Mild     High  Strong  Yes\n",
       "12  D13  Overcast   Hot   Normal    Weak  Yes\n",
       "13  D14      Rain  Mild     High  Strong   No"
      ]
     },
     "execution_count": 5,
     "metadata": {},
     "output_type": "execute_result"
    }
   ],
   "source": [
    "a=pd.read_csv(\"play_tennis.csv\")\n",
    "a"
   ]
  },
  {
   "cell_type": "code",
   "execution_count": 24,
   "id": "ab6a61c4",
   "metadata": {},
   "outputs": [],
   "source": [
    "from sklearn.model_selection import train_test_split"
   ]
  },
  {
   "cell_type": "code",
   "execution_count": 26,
   "id": "b636e1e1",
   "metadata": {},
   "outputs": [],
   "source": [
    "inp_train,inp_test,opt_train,opt_test=train_test_split(a.iloc[:,1:5],a.iloc[:,-1],test_size=0.30,random_state=25)"
   ]
  },
  {
   "cell_type": "code",
   "execution_count": 23,
   "id": "1d502ba6",
   "metadata": {},
   "outputs": [
    {
     "name": "stdout",
     "output_type": "stream",
     "text": [
      "Outlook_yes: 0.2222222222222222 0.4444444444444444 0.3333333333333333\n",
      "Temp_yes: 0.2222222222222222 0.4444444444444444 0.3333333333333333\n",
      "Humidity_yes: 0.3333333333333333 0.6666666666666666\n",
      "Wind: 0.6666666666666666 0.3333333333333333\n",
      "Outlook_no: 0.6 0.0 0.4\n",
      "Temp_no: 0.4 0.4 0.2\n",
      "Humididty_no: 0.8 0.2\n",
      "Wind_no: 0.4 0.6\n"
     ]
    }
   ],
   "source": [
    "c=c1=c2=c3=c4=c5=c6=c7=c8=c9=c10=0\n",
    "c00=c11=c22=c33=c44=c55=c66=c77=c88=c99=c101=0\n",
    "for i in range(len(a)):\n",
    "    if a['play'][i]==\"Yes\":\n",
    "        c+=1\n",
    "        if a['outlook'][i]==\"Sunny\":\n",
    "            c1+=1\n",
    "        if a['outlook'][i]==\"Overcast\":\n",
    "            c2+=1\n",
    "        if a['outlook'][i]==\"Rain\":\n",
    "            c3+=1\n",
    "        if a['temp'][i]==\"Hot\":\n",
    "            c4+=1\n",
    "        if a['temp'][i]==\"Mild\":\n",
    "            c5+=1\n",
    "        if a['temp'][i]==\"Cool\":\n",
    "            c6+=1\n",
    "        if a['humidity'][i]==\"High\":\n",
    "            c7+=1\n",
    "        if a['humidity'][i]==\"Normal\":\n",
    "            c8+=1\n",
    "        if a['wind'][i]==\"Weak\":\n",
    "            c9+=1\n",
    "        if a['wind'][i]==\"Strong\":\n",
    "            c10+=1\n",
    "    else:\n",
    "        c00+=1\n",
    "        if a['outlook'][i]==\"Sunny\":\n",
    "            c11+=1\n",
    "        if a['outlook'][i]==\"Overcast\":\n",
    "            c22+=1\n",
    "        if a['outlook'][i]==\"Rain\":\n",
    "            c33+=1\n",
    "        if a['temp'][i]==\"Hot\":\n",
    "            c44+=1\n",
    "        if a['temp'][i]==\"Mild\":\n",
    "            c55+=1\n",
    "        if a['temp'][i]==\"Cool\":\n",
    "            c66+=1\n",
    "        if a['humidity'][i]==\"High\":\n",
    "            c77+=1\n",
    "        if a['humidity'][i]==\"Normal\":\n",
    "            c88+=1\n",
    "        if a['wind'][i]==\"Weak\":\n",
    "            c99+=1\n",
    "        if a['wind'][i]==\"Strong\":\n",
    "            c101+=1\n",
    "p1=c1/c;p2=c2/c;p3=c3/c\n",
    "p4=c4/c;p5=c5/c;p6=c6/c\n",
    "p7=c7/c;p8=c8/c\n",
    "p9=c9/c;p10=c10/c\n",
    "p11=c11/c00;p22=c22/c00;p33=c33/c00\n",
    "p44=c44/c00;p55=c55/c00;p66=c66/c00\n",
    "p77=c77/c00;p88=c88/c00\n",
    "p99=c99/c00;p101=c101/c00\n",
    "print(\"Outlook_yes:\",p1,p2,p3)\n",
    "print(\"Temp_yes:\",p4,p5,p6)\n",
    "print(\"Humidity_yes:\",p7,p8)\n",
    "print(\"Wind:\",p9,p10)\n",
    "print(\"Outlook_no:\",p11,p22,p33)\n",
    "print(\"Temp_no:\",p44,p55,p66)\n",
    "print(\"Humididty_no:\",p77,p88)\n",
    "print(\"Wind_no:\",p99,p101)"
   ]
  },
  {
   "cell_type": "code",
   "execution_count": 27,
   "id": "ac354831",
   "metadata": {},
   "outputs": [
    {
     "data": {
      "text/html": [
       "<div>\n",
       "<style scoped>\n",
       "    .dataframe tbody tr th:only-of-type {\n",
       "        vertical-align: middle;\n",
       "    }\n",
       "\n",
       "    .dataframe tbody tr th {\n",
       "        vertical-align: top;\n",
       "    }\n",
       "\n",
       "    .dataframe thead th {\n",
       "        text-align: right;\n",
       "    }\n",
       "</style>\n",
       "<table border=\"1\" class=\"dataframe\">\n",
       "  <thead>\n",
       "    <tr style=\"text-align: right;\">\n",
       "      <th></th>\n",
       "      <th>outlook</th>\n",
       "      <th>temp</th>\n",
       "      <th>humidity</th>\n",
       "      <th>wind</th>\n",
       "    </tr>\n",
       "  </thead>\n",
       "  <tbody>\n",
       "    <tr>\n",
       "      <th>0</th>\n",
       "      <td>Sunny</td>\n",
       "      <td>Hot</td>\n",
       "      <td>High</td>\n",
       "      <td>Weak</td>\n",
       "    </tr>\n",
       "    <tr>\n",
       "      <th>9</th>\n",
       "      <td>Rain</td>\n",
       "      <td>Mild</td>\n",
       "      <td>Normal</td>\n",
       "      <td>Weak</td>\n",
       "    </tr>\n",
       "    <tr>\n",
       "      <th>3</th>\n",
       "      <td>Rain</td>\n",
       "      <td>Mild</td>\n",
       "      <td>High</td>\n",
       "      <td>Weak</td>\n",
       "    </tr>\n",
       "    <tr>\n",
       "      <th>5</th>\n",
       "      <td>Rain</td>\n",
       "      <td>Cool</td>\n",
       "      <td>Normal</td>\n",
       "      <td>Strong</td>\n",
       "    </tr>\n",
       "    <tr>\n",
       "      <th>11</th>\n",
       "      <td>Overcast</td>\n",
       "      <td>Mild</td>\n",
       "      <td>High</td>\n",
       "      <td>Strong</td>\n",
       "    </tr>\n",
       "  </tbody>\n",
       "</table>\n",
       "</div>"
      ],
      "text/plain": [
       "     outlook  temp humidity    wind\n",
       "0      Sunny   Hot     High    Weak\n",
       "9       Rain  Mild   Normal    Weak\n",
       "3       Rain  Mild     High    Weak\n",
       "5       Rain  Cool   Normal  Strong\n",
       "11  Overcast  Mild     High  Strong"
      ]
     },
     "execution_count": 27,
     "metadata": {},
     "output_type": "execute_result"
    }
   ],
   "source": [
    "inp_test"
   ]
  },
  {
   "cell_type": "code",
   "execution_count": 28,
   "id": "ad22de7a",
   "metadata": {},
   "outputs": [
    {
     "data": {
      "text/plain": [
       "0      No\n",
       "9     Yes\n",
       "3     Yes\n",
       "5      No\n",
       "11    Yes\n",
       "Name: play, dtype: object"
      ]
     },
     "execution_count": 28,
     "metadata": {},
     "output_type": "execute_result"
    }
   ],
   "source": [
    "opt_test"
   ]
  },
  {
   "cell_type": "code",
   "execution_count": 37,
   "id": "39ee1e70",
   "metadata": {},
   "outputs": [
    {
     "data": {
      "text/plain": [
       "['No']"
      ]
     },
     "execution_count": 37,
     "metadata": {},
     "output_type": "execute_result"
    }
   ],
   "source": [
    "opt_pred=[]\n",
    "res1_yes=p1*p4*p7*p9*(c/len(a))\n",
    "res1_no=p11*p44*p77*p99*(c00/len(a))\n",
    "if res1_yes>res1_no :\n",
    "    opt_pred.append(\"Yes\")\n",
    "else:\n",
    "    opt_pred.append(\"No\")\n",
    "opt_pred"
   ]
  },
  {
   "cell_type": "code",
   "execution_count": 38,
   "id": "720ed2fd",
   "metadata": {},
   "outputs": [
    {
     "data": {
      "text/plain": [
       "['No', 'Yes']"
      ]
     },
     "execution_count": 38,
     "metadata": {},
     "output_type": "execute_result"
    }
   ],
   "source": [
    "res2_yes=p3*p5*p8*p9*(c/len(a))\n",
    "res2_no=p33*p55*p88*p99*(c00/len(a))\n",
    "if res2_yes>res2_no:\n",
    "    opt_pred.append(\"Yes\")\n",
    "else:\n",
    "    opt_pred.append(\"No\")\n",
    "opt_pred"
   ]
  },
  {
   "cell_type": "code",
   "execution_count": 39,
   "id": "e3da19d5",
   "metadata": {},
   "outputs": [
    {
     "data": {
      "text/plain": [
       "['No', 'Yes', 'Yes']"
      ]
     },
     "execution_count": 39,
     "metadata": {},
     "output_type": "execute_result"
    }
   ],
   "source": [
    "res3_yes=p3*p5*p8*p9*(c/len(a))\n",
    "res3_no=p33*p55*p88*p99*(c00/len(a))\n",
    "if res3_yes>res3_no:\n",
    "    opt_pred.append(\"Yes\")\n",
    "else:\n",
    "    opt_pred.append(\"No\")\n",
    "opt_pred"
   ]
  },
  {
   "cell_type": "code",
   "execution_count": 40,
   "id": "0f6154c7",
   "metadata": {},
   "outputs": [
    {
     "data": {
      "text/plain": [
       "['No', 'Yes', 'Yes', 'Yes']"
      ]
     },
     "execution_count": 40,
     "metadata": {},
     "output_type": "execute_result"
    }
   ],
   "source": [
    "res4_yes=p3*p6*p8*p10*(c/len(a))\n",
    "res4_no=p33*p66*p88*p101*(c00/len(a))\n",
    "if res4_yes>res4_no:\n",
    "    opt_pred.append(\"Yes\")\n",
    "else:\n",
    "    opt_pred.append(\"No\")\n",
    "opt_pred"
   ]
  },
  {
   "cell_type": "code",
   "execution_count": 41,
   "id": "266ce3eb",
   "metadata": {},
   "outputs": [
    {
     "data": {
      "text/plain": [
       "['No', 'Yes', 'Yes', 'Yes', 'Yes']"
      ]
     },
     "execution_count": 41,
     "metadata": {},
     "output_type": "execute_result"
    }
   ],
   "source": [
    "res5_yes=p2*p5*p7*p10*(c/len(a))\n",
    "res5_no=p22*p55*p77*p101*(c00/len(a))\n",
    "if res5_yes>res5_no:\n",
    "   opt_pred.append(\"Yes\")\n",
    "else:\n",
    "    opt_pred.append(\"No\")\n",
    "opt_pred"
   ]
  },
  {
   "cell_type": "code",
   "execution_count": 44,
   "id": "4f852cdb",
   "metadata": {},
   "outputs": [
    {
     "name": "stdout",
     "output_type": "stream",
     "text": [
      "Accuracy:  80.0\n"
     ]
    }
   ],
   "source": [
    "cnt=0\n",
    "for i in range(len(opt_pred)):\n",
    "    if opt_test.iloc[i]==opt_pred[i]:\n",
    "        cnt+=1\n",
    "print(\"Accuracy: \",((cnt)/len(opt_pred))*100)"
   ]
  },
  {
   "cell_type": "code",
   "execution_count": null,
   "id": "3a0df719",
   "metadata": {},
   "outputs": [],
   "source": []
  }
 ],
 "metadata": {
  "kernelspec": {
   "display_name": "Python 3 (ipykernel)",
   "language": "python",
   "name": "python3"
  },
  "language_info": {
   "codemirror_mode": {
    "name": "ipython",
    "version": 3
   },
   "file_extension": ".py",
   "mimetype": "text/x-python",
   "name": "python",
   "nbconvert_exporter": "python",
   "pygments_lexer": "ipython3",
   "version": "3.11.3"
  }
 },
 "nbformat": 4,
 "nbformat_minor": 5
}
