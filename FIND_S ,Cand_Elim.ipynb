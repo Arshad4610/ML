{
 "cells": [
  {
   "cell_type": "code",
   "execution_count": 3,
   "id": "f76eea19",
   "metadata": {},
   "outputs": [],
   "source": [
    "import numpy as np\n",
    "import pandas as pd"
   ]
  },
  {
   "cell_type": "code",
   "execution_count": 28,
   "id": "1de00a7c",
   "metadata": {},
   "outputs": [
    {
     "data": {
      "text/html": [
       "<div>\n",
       "<style scoped>\n",
       "    .dataframe tbody tr th:only-of-type {\n",
       "        vertical-align: middle;\n",
       "    }\n",
       "\n",
       "    .dataframe tbody tr th {\n",
       "        vertical-align: top;\n",
       "    }\n",
       "\n",
       "    .dataframe thead th {\n",
       "        text-align: right;\n",
       "    }\n",
       "</style>\n",
       "<table border=\"1\" class=\"dataframe\">\n",
       "  <thead>\n",
       "    <tr style=\"text-align: right;\">\n",
       "      <th></th>\n",
       "      <th>sky</th>\n",
       "      <th>airtemp</th>\n",
       "      <th>humidity</th>\n",
       "      <th>wind</th>\n",
       "      <th>water</th>\n",
       "      <th>forecast</th>\n",
       "      <th>enjoysport</th>\n",
       "    </tr>\n",
       "  </thead>\n",
       "  <tbody>\n",
       "    <tr>\n",
       "      <th>0</th>\n",
       "      <td>sunny</td>\n",
       "      <td>warm</td>\n",
       "      <td>normal</td>\n",
       "      <td>strong</td>\n",
       "      <td>warm</td>\n",
       "      <td>same</td>\n",
       "      <td>yes</td>\n",
       "    </tr>\n",
       "    <tr>\n",
       "      <th>1</th>\n",
       "      <td>sunny</td>\n",
       "      <td>warm</td>\n",
       "      <td>high</td>\n",
       "      <td>strong</td>\n",
       "      <td>warm</td>\n",
       "      <td>same</td>\n",
       "      <td>yes</td>\n",
       "    </tr>\n",
       "    <tr>\n",
       "      <th>2</th>\n",
       "      <td>rainy</td>\n",
       "      <td>cold</td>\n",
       "      <td>high</td>\n",
       "      <td>strong</td>\n",
       "      <td>warm</td>\n",
       "      <td>change</td>\n",
       "      <td>no</td>\n",
       "    </tr>\n",
       "    <tr>\n",
       "      <th>3</th>\n",
       "      <td>sunny</td>\n",
       "      <td>warm</td>\n",
       "      <td>high</td>\n",
       "      <td>strong</td>\n",
       "      <td>cool</td>\n",
       "      <td>change</td>\n",
       "      <td>yes</td>\n",
       "    </tr>\n",
       "  </tbody>\n",
       "</table>\n",
       "</div>"
      ],
      "text/plain": [
       "     sky airtemp humidity    wind water forecast enjoysport\n",
       "0  sunny    warm   normal  strong  warm     same        yes\n",
       "1  sunny    warm     high  strong  warm     same        yes\n",
       "2  rainy    cold     high  strong  warm   change         no\n",
       "3  sunny    warm     high  strong  cool   change        yes"
      ]
     },
     "execution_count": 28,
     "metadata": {},
     "output_type": "execute_result"
    }
   ],
   "source": [
    "a=pd.read_csv(\"enjoy_sport.csv\")\n",
    "a"
   ]
  },
  {
   "cell_type": "code",
   "execution_count": 49,
   "id": "ee98fce8",
   "metadata": {},
   "outputs": [
    {
     "name": "stdout",
     "output_type": "stream",
     "text": [
      "['sunny', 'warm', 'normal', 'strong', 'warm', 'same', 'yes']\n"
     ]
    }
   ],
   "source": [
    "print(a.iloc[0].tolist())"
   ]
  },
  {
   "cell_type": "code",
   "execution_count": 5,
   "id": "31b8ca53",
   "metadata": {},
   "outputs": [
    {
     "name": "stdout",
     "output_type": "stream",
     "text": [
      "     sky airtemp humidity    wind water forecast enjoysport\n",
      "0  sunny    warm   normal  strong  warm     same        yes\n",
      "1  sunny    warm     high  strong  warm     same        yes\n",
      "2  rainy    cold     high  strong  warm   change         no\n",
      "3  sunny    warm     high  strong  cool   change        yes\n",
      "['sunny', 'warm', 'normal', 'strong', 'warm', 'same']\n",
      "['sunny', 'warm', '?', 'strong', 'warm', 'same']\n",
      "['sunny', 'warm', '?', 'strong', 'warm', 'same']\n",
      "['sunny', 'warm', '?', 'strong', '?', '?']\n",
      "final hypothesis: ['sunny', 'warm', '?', 'strong', '?', '?']\n"
     ]
    }
   ],
   "source": [
    "a=pd.read_csv(\"enjoy_sport.csv\")\n",
    "print(a)\n",
    "def find_s(a):\n",
    "    hypothesis=None\n",
    "    for index, row in a.iterrows():\n",
    "        if row.iloc[-1]==\"yes\":\n",
    "            if hypothesis is None:\n",
    "                hypothesis=row.iloc[:-1].tolist()\n",
    "            else:\n",
    "                for j in range(len(row)-1):\n",
    "                    if row.iloc[j]!=hypothesis[j]:\n",
    "                        hypothesis[j]=\"?\"\n",
    "        print(hypothesis)\n",
    "    return hypothesis\n",
    "h=find_s(a)\n",
    "print(\"final hypothesis:\",h)           "
   ]
  },
  {
   "cell_type": "code",
   "execution_count": 62,
   "id": "f213142c",
   "metadata": {},
   "outputs": [
    {
     "name": "stdout",
     "output_type": "stream",
     "text": [
      "     sky airtemp humidity    wind water forecast enjoysport\n",
      "0  sunny    warm   normal  strong  warm     same        yes\n",
      "1  sunny    warm     high  strong  warm     same        yes\n",
      "2  rainy    cold     high  strong  warm   change         no\n",
      "3  sunny    warm     high  strong  cool   change        yes\n",
      "\n",
      " ['sunny', 'warm', 'normal', 'strong', 'warm', 'same']\n",
      "[['?', '?', '?', '?', '?', '?'], ['?', '?', '?', '?', '?', '?'], ['?', '?', '?', '?', '?', '?'], ['?', '?', '?', '?', '?', '?'], ['?', '?', '?', '?', '?', '?'], ['?', '?', '?', '?', '?', '?']]\n",
      "\n",
      " ['sunny', 'warm', '?', 'strong', 'warm', 'same']\n",
      "[['?', '?', '?', '?', '?', '?'], ['?', '?', '?', '?', '?', '?'], ['?', '?', '?', '?', '?', '?'], ['?', '?', '?', '?', '?', '?'], ['?', '?', '?', '?', '?', '?'], ['?', '?', '?', '?', '?', '?']]\n",
      "\n",
      " ['sunny', 'warm', '?', 'strong', 'warm', 'same']\n",
      "[['sunny', '?', '?', '?', '?', '?'], ['?', 'warm', '?', '?', '?', '?'], ['?', '?', '?', '?', '?', '?'], ['?', '?', '?', '?', '?', '?'], ['?', '?', '?', '?', '?', '?'], ['?', '?', '?', '?', '?', 'same']]\n",
      "\n",
      " ['sunny', 'warm', '?', 'strong', '?', '?']\n",
      "[['sunny', '?', '?', '?', '?', '?'], ['?', 'warm', '?', '?', '?', '?'], ['?', '?', '?', '?', '?', '?'], ['?', '?', '?', '?', '?', '?'], ['?', '?', '?', '?', '?', '?'], ['?', '?', '?', '?', '?', '?']]\n",
      "\n",
      "final specific_hypothesis: ['sunny', 'warm', '?', 'strong', '?', '?']\n",
      "final general_hyp: [['sunny', '?', '?', '?', '?', '?'], ['?', 'warm', '?', '?', '?', '?']]\n"
     ]
    }
   ],
   "source": [
    "a=pd.read_csv(\"enjoy_sport.csv\")\n",
    "print(a)\n",
    "def cand_elim(a):\n",
    "    specific_hyp=a.iloc[0].tolist()\n",
    "    general_hyp=[['?' for i in range(len(specific_hyp)-1)]for i in range(len(specific_hyp)-1)]\n",
    "    for index, row in a.iterrows():\n",
    "        if row.iloc[-1]==\"yes\":\n",
    "            for j in range(len(specific_hyp)-1):\n",
    "                if row[j]!=specific_hyp[j]:\n",
    "                    specific_hyp[j]=\"?\"\n",
    "                    general_hyp[j][j]=\"?\"\n",
    "        if row.iloc[-1]==\"no\":\n",
    "            for j in range(len(specific_hyp)-1):\n",
    "                if row[j]!=specific_hyp[j]:\n",
    "                    general_hyp[j][j]=specific_hyp[j]\n",
    "                else:\n",
    "                    general_hyp[j][j]=\"?\"\n",
    "        print(\"\\n\",specific_hyp[0:6])\n",
    "        print(general_hyp[0:6])\n",
    "    indices=[i for i,val in enumerate(general_hyp) if val==['?', '?', '?', '?', '?', '?']]\n",
    "    for i in indices:\n",
    "        general_hyp.remove(['?', '?', '?', '?', '?', '?'])\n",
    "    return specific_hyp,general_hyp\n",
    "specific_final,general_final=cand_elim(a)\n",
    "print(\"\\nfinal specific_hypothesis:\",specific_final[0:6])\n",
    "print(\"final general_hyp:\",general_final[0:6])"
   ]
  },
  {
   "cell_type": "code",
   "execution_count": null,
   "id": "da6681d0",
   "metadata": {},
   "outputs": [],
   "source": []
  }
 ],
 "metadata": {
  "kernelspec": {
   "display_name": "Python 3 (ipykernel)",
   "language": "python",
   "name": "python3"
  },
  "language_info": {
   "codemirror_mode": {
    "name": "ipython",
    "version": 3
   },
   "file_extension": ".py",
   "mimetype": "text/x-python",
   "name": "python",
   "nbconvert_exporter": "python",
   "pygments_lexer": "ipython3",
   "version": "3.11.3"
  }
 },
 "nbformat": 4,
 "nbformat_minor": 5
}
